{
 "cells": [
  {
   "cell_type": "markdown",
   "metadata": {},
   "source": [
    "### ----------------------------------------------------------------------------------------------------------\n",
    "## 社会変革型 医療データサイエンティスト育成講座\n",
    "# Chapter 7: ロジスティック回帰モデルと傾向スコア\n",
    "### ----------------------------------------------------------------------------------------------------------"
   ]
  },
  {
   "cell_type": "markdown",
   "metadata": {},
   "source": [
    "#### 1. sklearnを用いたロジスティック回帰モデル構築"
   ]
  },
  {
   "cell_type": "code",
   "execution_count": 2,
   "metadata": {},
   "outputs": [
    {
     "data": {
      "text/html": [
       "<div>\n",
       "<style scoped>\n",
       "    .dataframe tbody tr th:only-of-type {\n",
       "        vertical-align: middle;\n",
       "    }\n",
       "\n",
       "    .dataframe tbody tr th {\n",
       "        vertical-align: top;\n",
       "    }\n",
       "\n",
       "    .dataframe thead th {\n",
       "        text-align: right;\n",
       "    }\n",
       "</style>\n",
       "<table border=\"1\" class=\"dataframe\">\n",
       "  <thead>\n",
       "    <tr style=\"text-align: right;\">\n",
       "      <th></th>\n",
       "      <th>Pregnancies</th>\n",
       "      <th>Glucose</th>\n",
       "      <th>BloodPressure</th>\n",
       "      <th>SkinThickness</th>\n",
       "      <th>Insulin</th>\n",
       "      <th>BMI</th>\n",
       "      <th>DiabetesPedigreeFunction</th>\n",
       "      <th>Age</th>\n",
       "      <th>Outcome</th>\n",
       "    </tr>\n",
       "  </thead>\n",
       "  <tbody>\n",
       "    <tr>\n",
       "      <th>0</th>\n",
       "      <td>6</td>\n",
       "      <td>148.0</td>\n",
       "      <td>72.0</td>\n",
       "      <td>35.000000</td>\n",
       "      <td>79.799479</td>\n",
       "      <td>33.6</td>\n",
       "      <td>0.627</td>\n",
       "      <td>50</td>\n",
       "      <td>1</td>\n",
       "    </tr>\n",
       "    <tr>\n",
       "      <th>1</th>\n",
       "      <td>1</td>\n",
       "      <td>85.0</td>\n",
       "      <td>66.0</td>\n",
       "      <td>29.000000</td>\n",
       "      <td>79.799479</td>\n",
       "      <td>26.6</td>\n",
       "      <td>0.351</td>\n",
       "      <td>31</td>\n",
       "      <td>0</td>\n",
       "    </tr>\n",
       "    <tr>\n",
       "      <th>2</th>\n",
       "      <td>8</td>\n",
       "      <td>183.0</td>\n",
       "      <td>64.0</td>\n",
       "      <td>20.536458</td>\n",
       "      <td>79.799479</td>\n",
       "      <td>23.3</td>\n",
       "      <td>0.672</td>\n",
       "      <td>32</td>\n",
       "      <td>1</td>\n",
       "    </tr>\n",
       "    <tr>\n",
       "      <th>3</th>\n",
       "      <td>1</td>\n",
       "      <td>89.0</td>\n",
       "      <td>66.0</td>\n",
       "      <td>23.000000</td>\n",
       "      <td>94.000000</td>\n",
       "      <td>28.1</td>\n",
       "      <td>0.167</td>\n",
       "      <td>21</td>\n",
       "      <td>0</td>\n",
       "    </tr>\n",
       "    <tr>\n",
       "      <th>4</th>\n",
       "      <td>0</td>\n",
       "      <td>137.0</td>\n",
       "      <td>40.0</td>\n",
       "      <td>35.000000</td>\n",
       "      <td>168.000000</td>\n",
       "      <td>43.1</td>\n",
       "      <td>2.288</td>\n",
       "      <td>33</td>\n",
       "      <td>1</td>\n",
       "    </tr>\n",
       "  </tbody>\n",
       "</table>\n",
       "</div>"
      ],
      "text/plain": [
       "   Pregnancies  Glucose  BloodPressure  SkinThickness     Insulin   BMI  \\\n",
       "0            6    148.0           72.0      35.000000   79.799479  33.6   \n",
       "1            1     85.0           66.0      29.000000   79.799479  26.6   \n",
       "2            8    183.0           64.0      20.536458   79.799479  23.3   \n",
       "3            1     89.0           66.0      23.000000   94.000000  28.1   \n",
       "4            0    137.0           40.0      35.000000  168.000000  43.1   \n",
       "\n",
       "   DiabetesPedigreeFunction  Age  Outcome  \n",
       "0                     0.627   50        1  \n",
       "1                     0.351   31        0  \n",
       "2                     0.672   32        1  \n",
       "3                     0.167   21        0  \n",
       "4                     2.288   33        1  "
      ]
     },
     "execution_count": 2,
     "metadata": {},
     "output_type": "execute_result"
    }
   ],
   "source": [
    "# pima indiansデータの読み込み\n",
    "import pandas as pd\n",
    "\n",
    "# Jupyter Notebookのホームディレクトリに下記csvファイルを格納してください\n",
    "filename = \"diabetes.csv\"\n",
    "\n",
    "df = pd.read_csv(filename, sep=',',header=0)\n",
    "\n",
    "# 平均値による欠損値の補完 \n",
    "imputer_cols = df.columns[[1,2,3,4,5]]\n",
    "correct_df = df.copy()\n",
    "for i in imputer_cols:\n",
    "    correct_df[i] = correct_df[i].mask(df[i]==0, df[i].mean())\n",
    "    \n",
    "correct_df.head()"
   ]
  },
  {
   "cell_type": "code",
   "execution_count": 3,
   "metadata": {},
   "outputs": [
    {
     "data": {
      "image/png": "[encoded data removed]",
      "text/plain": [
       "<Figure size 432x288 with 1 Axes>"
      ]
     },
     "metadata": {
      "needs_background": "light"
     },
     "output_type": "display_data"
    }
   ],
   "source": [
    "# (参考) BMIデータの確認\n",
    "import matplotlib.pyplot as plt\n",
    "%matplotlib inline\n",
    "\n",
    "plt.hist(correct_df['BMI'],bins=20,edgecolor='k')\n",
    "plt.xlabel('BMI')\n",
    "plt.ylabel('count')\n",
    "plt.title('BMI data from Pima Indians data')\n",
    "plt.show()"
   ]
  },
  {
   "cell_type": "code",
   "execution_count": 3,
   "metadata": {},
   "outputs": [
    {
     "data": {
      "text/plain": [
       "0    1\n",
       "1    0\n",
       "2    0\n",
       "3    0\n",
       "4    1\n",
       "Name: BMI, dtype: category\n",
       "Categories (2, int64): [0 < 1]"
      ]
     },
     "execution_count": 3,
     "metadata": {},
     "output_type": "execute_result"
    }
   ],
   "source": [
    "# データの前処理\n",
    "# pandasのcut functionを使用します\n",
    "BMI_category = pd.cut(correct_df['BMI'],[0,30,100],labels=[0,1])\n",
    "BMI_category.head()"
   ]
  },
  {
   "cell_type": "code",
   "execution_count": 4,
   "metadata": {},
   "outputs": [
    {
     "name": "stdout",
     "output_type": "stream",
     "text": [
      "[1.37603247]\n",
      "odds ratio = [3.95916231]\n"
     ]
    },
    {
     "name": "stderr",
     "output_type": "stream",
     "text": [
      "/anaconda3/envs/my-rdkit-env/lib/python3.6/site-packages/sklearn/linear_model/logistic.py:433: FutureWarning: Default solver will be changed to 'lbfgs' in 0.22. Specify a solver to silence this warning.\n",
      "  FutureWarning)\n"
     ]
    }
   ],
   "source": [
    "# scikit-learnによるモデル構築\n",
    "import numpy as np\n",
    "from sklearn.linear_model import LogisticRegression\n",
    "\n",
    "# numpyのreshapeを使用して、説明変数を2次元配列に変換\n",
    "X = np.array(BMI_category).reshape(-1,1)\n",
    "y = np.array(correct_df['Outcome'])\n",
    "\n",
    "# 正則化法の適用オプションとして、L1もしくはL2しか選択できません（defaultはL2）\n",
    "# 正則化を行いたくない場合には、正則化項にかかるハイパーパラメータをゼロに近づける必要があります\n",
    "# Cを大きな値とすることで、ハイパーパラメータが0に近づきます\n",
    "logisticModel = LogisticRegression(C=10000)\n",
    "logisticModel.fit(X,y)\n",
    "\n",
    "# statsmodelsでのpenalty無しの場合とでは値が異なります\n",
    "print(logisticModel.coef_[0])\n",
    "\n",
    "# オッズ比を算出\n",
    "print('odds ratio = ' + str(np.exp(logisticModel.coef_[0])))"
   ]
  },
  {
   "cell_type": "code",
   "execution_count": 5,
   "metadata": {},
   "outputs": [
    {
     "name": "stdout",
     "output_type": "stream",
     "text": [
      "[0.1025497]\n",
      "odds ratio = [1.10799237]\n"
     ]
    },
    {
     "name": "stderr",
     "output_type": "stream",
     "text": [
      "/anaconda3/envs/my-rdkit-env/lib/python3.6/site-packages/sklearn/linear_model/logistic.py:433: FutureWarning: Default solver will be changed to 'lbfgs' in 0.22. Specify a solver to silence this warning.\n",
      "  FutureWarning)\n"
     ]
    }
   ],
   "source": [
    "# BMIを連続値のまま説明変数として使用\n",
    "\n",
    "X = np.array(correct_df[['BMI']])\n",
    "y = np.array(correct_df['Outcome'])\n",
    "\n",
    "logisticModel = LogisticRegression(C=10000)\n",
    "logisticModel.fit(X,y)\n",
    "print(logisticModel.coef_[0])\n",
    "print('odds ratio = ' + str(np.exp(logisticModel.coef_[0])))"
   ]
  },
  {
   "cell_type": "code",
   "execution_count": 6,
   "metadata": {},
   "outputs": [
    {
     "data": {
      "text/html": [
       "<div>\n",
       "<style scoped>\n",
       "    .dataframe tbody tr th:only-of-type {\n",
       "        vertical-align: middle;\n",
       "    }\n",
       "\n",
       "    .dataframe tbody tr th {\n",
       "        vertical-align: top;\n",
       "    }\n",
       "\n",
       "    .dataframe thead th {\n",
       "        text-align: right;\n",
       "    }\n",
       "</style>\n",
       "<table border=\"1\" class=\"dataframe\">\n",
       "  <thead>\n",
       "    <tr style=\"text-align: right;\">\n",
       "      <th></th>\n",
       "      <th>BMI</th>\n",
       "      <th>Outcome</th>\n",
       "    </tr>\n",
       "  </thead>\n",
       "  <tbody>\n",
       "    <tr>\n",
       "      <th>0</th>\n",
       "      <td>1</td>\n",
       "      <td>1</td>\n",
       "    </tr>\n",
       "    <tr>\n",
       "      <th>1</th>\n",
       "      <td>0</td>\n",
       "      <td>0</td>\n",
       "    </tr>\n",
       "    <tr>\n",
       "      <th>2</th>\n",
       "      <td>0</td>\n",
       "      <td>1</td>\n",
       "    </tr>\n",
       "    <tr>\n",
       "      <th>3</th>\n",
       "      <td>0</td>\n",
       "      <td>0</td>\n",
       "    </tr>\n",
       "    <tr>\n",
       "      <th>4</th>\n",
       "      <td>1</td>\n",
       "      <td>1</td>\n",
       "    </tr>\n",
       "  </tbody>\n",
       "</table>\n",
       "</div>"
      ],
      "text/plain": [
       "  BMI  Outcome\n",
       "0   1        1\n",
       "1   0        0\n",
       "2   0        1\n",
       "3   0        0\n",
       "4   1        1"
      ]
     },
     "execution_count": 6,
     "metadata": {},
     "output_type": "execute_result"
    }
   ],
   "source": [
    "# (参考) statsmodelsを使ったロジスティック回帰モデルの構築\n",
    "\n",
    "# BMIをカテゴリデータ化\n",
    "data_BMI_cat = pd.cut(correct_df['BMI'],[0,30,100],labels=[0,1])\n",
    "\n",
    "# Outcomeを結合\n",
    "data_BMI_cat = pd.concat([data_BMI_cat,correct_df['Outcome']],axis=1)\n",
    "data_BMI_cat.head()"
   ]
  },
  {
   "cell_type": "code",
   "execution_count": 7,
   "metadata": {},
   "outputs": [
    {
     "name": "stdout",
     "output_type": "stream",
     "text": [
      "Optimization terminated successfully.\n",
      "         Current function value: 0.603302\n",
      "         Iterations 5\n",
      "                           Logit Regression Results                           \n",
      "==============================================================================\n",
      "Dep. Variable:                Outcome   No. Observations:                  768\n",
      "Model:                          Logit   Df Residuals:                      766\n",
      "Method:                           MLE   Df Model:                            1\n",
      "Date:                Fri, 14 Jun 2019   Pseudo R-squ.:                 0.06725\n",
      "Time:                        19:27:38   Log-Likelihood:                -463.34\n",
      "converged:                       True   LL-Null:                       -496.74\n",
      "                                        LLR p-value:                 2.986e-16\n",
      "==============================================================================\n",
      "                 coef    std err          z      P>|z|      [0.025      0.975]\n",
      "------------------------------------------------------------------------------\n",
      "Intercept     -1.5530      0.154    -10.075      0.000      -1.855      -1.251\n",
      "BMI[T.1]       1.3760      0.180      7.665      0.000       1.024       1.728\n",
      "==============================================================================\n",
      "odds ratio = 3.9591944886062573\n"
     ]
    }
   ],
   "source": [
    "import statsmodels.formula.api as smf\n",
    "\n",
    "# 説明変数と目的変数の関係を指定し、モデルを構築する\n",
    "f = 'Outcome ~ BMI'\n",
    "logitfit = smf.logit(formula=str(f), data=data_BMI_cat).fit()\n",
    "\n",
    "print(logitfit.summary())\n",
    "\n",
    "# パラメータは対数オッズ比を表すため、expの肩に乗せることでオッズ比を算出\n",
    "print('odds ratio = ' + str(np.exp(logitfit.params[1])))"
   ]
  },
  {
   "cell_type": "code",
   "execution_count": 8,
   "metadata": {},
   "outputs": [
    {
     "name": "stdout",
     "output_type": "stream",
     "text": [
      "Optimization terminated successfully.\n",
      "         Current function value: 0.596671\n",
      "         Iterations 5\n",
      "                           Logit Regression Results                           \n",
      "==============================================================================\n",
      "Dep. Variable:                Outcome   No. Observations:                  768\n",
      "Model:                          Logit   Df Residuals:                      766\n",
      "Method:                           MLE   Df Model:                            1\n",
      "Date:                Fri, 14 Jun 2019   Pseudo R-squ.:                 0.07750\n",
      "Time:                        19:27:38   Log-Likelihood:                -458.24\n",
      "converged:                       True   LL-Null:                       -496.74\n",
      "                                        LLR p-value:                 1.712e-18\n",
      "==============================================================================\n",
      "                 coef    std err          z      P>|z|      [0.025      0.975]\n",
      "------------------------------------------------------------------------------\n",
      "Intercept     -4.0190      0.429     -9.363      0.000      -4.860      -3.178\n",
      "BMI            0.1029      0.013      8.148      0.000       0.078       0.128\n",
      "==============================================================================\n"
     ]
    }
   ],
   "source": [
    "# （参考） BMIを連続変数のまま、説明変数として使用するモデル\n",
    "\n",
    "# BMIを説明変数として指定\n",
    "f = 'Outcome ~ BMI'\n",
    "logitfit = smf.logit(formula=str(f), data=correct_df).fit()\n",
    "\n",
    "print(logitfit.summary())"
   ]
  },
  {
   "cell_type": "markdown",
   "metadata": {},
   "source": [
    "#### 2. 混同行列、ROC曲線とAUC"
   ]
  },
  {
   "cell_type": "code",
   "execution_count": 9,
   "metadata": {},
   "outputs": [
    {
     "name": "stderr",
     "output_type": "stream",
     "text": [
      "/anaconda3/envs/my-rdkit-env/lib/python3.6/site-packages/sklearn/linear_model/logistic.py:433: FutureWarning: Default solver will be changed to 'lbfgs' in 0.22. Specify a solver to silence this warning.\n",
      "  FutureWarning)\n"
     ]
    },
    {
     "data": {
      "text/plain": [
       "LogisticRegression(C=1.0, class_weight=None, dual=False, fit_intercept=True,\n",
       "          intercept_scaling=1, max_iter=100, multi_class='warn',\n",
       "          n_jobs=None, penalty='l2', random_state=None, solver='warn',\n",
       "          tol=0.0001, verbose=0, warm_start=False)"
      ]
     },
     "execution_count": 9,
     "metadata": {},
     "output_type": "execute_result"
    }
   ],
   "source": [
    "from sklearn.model_selection import train_test_split\n",
    "\n",
    "# 説明変数の選択\n",
    "X = correct_df[['Age','BMI']]\n",
    "y = correct_df.loc[:, 'Outcome']\n",
    "\n",
    "X_train, X_test, y_train, y_test = train_test_split(X, y, test_size=1/4)\n",
    "\n",
    "logisticModel = LogisticRegression()\n",
    "logisticModel.fit(X_train, y_train)"
   ]
  },
  {
   "cell_type": "code",
   "execution_count": 10,
   "metadata": {},
   "outputs": [
    {
     "data": {
      "image/png": "[encoded data removed]",
      "text/plain": [
       "<Figure size 648x432 with 2 Axes>"
      ]
     },
     "metadata": {
      "needs_background": "light"
     },
     "output_type": "display_data"
    }
   ],
   "source": [
    "# (参考) 結果の可視化\n",
    "\n",
    "# 散布図のための関数定義\n",
    "def plot_scatter(df_pos,df_neg,cols=['Age','BMI'],dsize=10):\n",
    "    plt.scatter(df_pos[cols[0]],df_pos[cols[1]],\n",
    "                c='orange',\n",
    "                s=dsize,\n",
    "                label='positive',\n",
    "               )\n",
    "    plt.scatter(df_neg[cols[0]],df_neg[cols[1]],\n",
    "                c='blue',\n",
    "                s=dsize,\n",
    "                label='negative',\n",
    "                alpha=0.3, # そのままだとドットが重なって見にくいため、透明度を調整\n",
    "               )\n",
    "\n",
    "    plt.xlabel(cols[0])\n",
    "    plt.ylabel(cols[1])\n",
    "\n",
    "    # legendを可視化\n",
    "    plt.legend()\n",
    "\n",
    "# 変数定義\n",
    "data_age = correct_df['Age']\n",
    "data_BMI = correct_df['BMI']\n",
    "df_pos = correct_df[correct_df['Outcome']==1]\n",
    "df_neg = correct_df[correct_df['Outcome']==0]\n",
    "\n",
    "# プロットのための座標を作成します\n",
    "age = np.linspace(np.min(data_age),np.max(data_age),51)\n",
    "BMI = np.linspace(np.min(data_BMI),np.max(data_BMI),51)\n",
    "\n",
    "# age x BMI の２次元平面の各座標において、regressionで求めた関数から陽性率を計算します\n",
    "prediction = np.zeros([51,51])\n",
    "for i in range(51):\n",
    "    for j in range(51):\n",
    "        prediction[i,j] = logisticModel.predict_proba([[age[i],BMI[j]]])[0,1]\n",
    "\n",
    "# 陽性率の関数とデータの散布図を同一グラフ上に描画\n",
    "extent = [np.min(data_age), np.max(data_age), np.min(data_BMI), np.max(data_BMI)]\n",
    "fig = plt.figure(figsize=[9,6])\n",
    "ax = fig.add_subplot(1,1,1)\n",
    "plot_scatter(df_pos,df_neg,dsize=15)\n",
    "im = ax.imshow(prediction.T,\n",
    "               extent=extent,\n",
    "               origin='lower',\n",
    "               cmap='pink'\n",
    "              )\n",
    "ax.set_xlabel('age')\n",
    "ax.set_ylabel('BMI')\n",
    "fig.colorbar(im)\n",
    "plt.show()"
   ]
  },
  {
   "cell_type": "code",
   "execution_count": 11,
   "metadata": {},
   "outputs": [
    {
     "name": "stdout",
     "output_type": "stream",
     "text": [
      "              precision    recall  f1-score   support\n",
      "\n",
      "           1       0.61      0.26      0.37        65\n",
      "           0       0.71      0.91      0.80       127\n",
      "\n",
      "   micro avg       0.69      0.69      0.69       192\n",
      "   macro avg       0.66      0.59      0.58       192\n",
      "weighted avg       0.67      0.69      0.65       192\n",
      "\n"
     ]
    },
    {
     "data": {
      "image/png": "[encoded data removed]",
      "text/plain": [
       "<Figure size 432x288 with 2 Axes>"
      ]
     },
     "metadata": {
      "needs_background": "light"
     },
     "output_type": "display_data"
    }
   ],
   "source": [
    "# 混同行列、classification_reportの確認\n",
    "from sklearn.metrics import confusion_matrix, classification_report\n",
    "import seaborn as sns\n",
    "\n",
    "y_pred = logisticModel.predict(X_test)\n",
    "labels = [1,0]\n",
    "print(classification_report(y_test, y_pred, labels=labels))\n",
    "\n",
    "# 混同行列\n",
    "# 左上は真陽性(true positive)、右下は真陰性(true negative)、\n",
    "# 左下は偽陽性(false positive)、右上は偽陰性(false negative)\n",
    "conf_mtx = confusion_matrix(y_test, y_pred, labels=labels)\n",
    "sns.heatmap(conf_mtx, annot=True, xticklabels=labels, yticklabels=labels)\n",
    "plt.show()"
   ]
  },
  {
   "cell_type": "code",
   "execution_count": 12,
   "metadata": {},
   "outputs": [
    {
     "data": {
      "image/png": "[encoded data removed]",
      "text/plain": [
       "<Figure size 432x288 with 1 Axes>"
      ]
     },
     "metadata": {
      "needs_background": "light"
     },
     "output_type": "display_data"
    }
   ],
   "source": [
    "# ROC curve, およびarea under the curve (AUC) の計算\n",
    "from sklearn.metrics import roc_curve, auc\n",
    "\n",
    "# テストデータを使用してROC curveを計算するために、まずはテストデータの\n",
    "# 各点における陽性率を、LogisticRegression.predict_proba関数を使用して計算します\n",
    "prob_positive = logisticModel.predict_proba(X_test)[:,1]\n",
    "\n",
    "# 次に、上で求めた真陽性率と、各点の真のOutcomeの値を使用して、\n",
    "# 様々なthresholdsにおける真陽性率と偽陽性率を計算します\n",
    "fpr, tpr, thresholds = roc_curve(y_test, prob_positive)\n",
    "\n",
    "# ROC curveのarea under the curveを計算\n",
    "roc_auc = auc(fpr, tpr)\n",
    "s = 'AUC =' + str(np.round(roc_auc,3)) # 値を四捨五入し、文字列に変換しておく\n",
    "\n",
    "# 実際にROC curveを描いてみます\n",
    "plt.plot(fpr, tpr)\n",
    "plt.xlabel('False positive rate')\n",
    "plt.ylabel('True positive rate')\n",
    "plt.title('Receiver operating characteristics curve')\n",
    "plt.text(0.5,0.5,s) # plotの中にAUCを書きます。最初の二つの数字はテキストの開始位置を示しています\n",
    "plt.show()"
   ]
  }
 ],
 "metadata": {
  "kernelspec": {
   "display_name": "Python 3",
   "language": "python",
   "name": "python3"
  },
  "language_info": {
   "codemirror_mode": {
    "name": "ipython",
    "version": 3
   },
   "file_extension": ".py",
   "mimetype": "text/x-python",
   "name": "python",
   "nbconvert_exporter": "python",
   "pygments_lexer": "ipython3",
   "version": "3.6.8"
  },
  "toc": {
   "base_numbering": 1,
   "nav_menu": {},
   "number_sections": false,
   "sideBar": true,
   "skip_h1_title": false,
   "title_cell": "Table of Contents",
   "title_sidebar": "Contents",
   "toc_cell": false,
   "toc_position": {},
   "toc_section_display": true,
   "toc_window_display": true
  },
  "varInspector": {
   "cols": {
    "lenName": 16,
    "lenType": 16,
    "lenVar": 40
   },
   "kernels_config": {
    "python": {
     "delete_cmd_postfix": "",
     "delete_cmd_prefix": "del ",
     "library": "var_list.py",
     "varRefreshCmd": "print(var_dic_list())"
    },
    "r": {
     "delete_cmd_postfix": ") ",
     "delete_cmd_prefix": "rm(",
     "library": "var_list.r",
     "varRefreshCmd": "cat(var_dic_list()) "
    }
   },
   "types_to_exclude": [
    "module",
    "function",
    "builtin_function_or_method",
    "instance",
    "_Feature"
   ],
   "window_display": false
  }
 },
 "nbformat": 4,
 "nbformat_minor": 2
}
