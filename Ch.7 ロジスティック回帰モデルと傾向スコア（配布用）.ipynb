{
 "cells": [
  {
   "cell_type": "markdown",
   "metadata": {},
   "source": [
    "### ----------------------------------------------------------------------------------------------------------\n",
    "## 社会変革型 医療データサイエンティスト育成講座\n",
    "# Chapter 7: ロジスティック回帰モデルと傾向スコア 配布用ノート\n",
    "### ----------------------------------------------------------------------------------------------------------"
   ]
  },
  {
   "cell_type": "markdown",
   "metadata": {},
   "source": [
    "#### 1. sklearnを用いたロジスティック回帰モデル構築"
   ]
  },
  {
   "cell_type": "code",
   "execution_count": null,
   "metadata": {},
   "outputs": [],
   "source": [
    "# pima indiansデータの読み込み\n",
    "# 前回の復習ですので、以下実行してみてください\n",
    "\n",
    "import pandas as pd\n",
    "\n",
    "# Jupyter Notebookのホームディレクトリに下記csvファイルを格納してください\n",
    "filename = \"diabetes.csv\"\n",
    "\n",
    "df = pd.read_csv(filename, sep=',',header=0)\n",
    "\n",
    "# 平均値による欠損値の補完 \n",
    "imputer_cols = df.columns[[1,2,3,4,5]]\n",
    "correct_df = df.copy()\n",
    "for i in imputer_cols:\n",
    "    correct_df[i] = correct_df[i].mask(df[i]==0, df[i].mean())\n",
    "    \n",
    "correct_df.head()"
   ]
  },
  {
   "cell_type": "code",
   "execution_count": null,
   "metadata": {},
   "outputs": [],
   "source": [
    "# (参考) BMIデータの確認\n",
    "import matplotlib.pyplot as plt\n",
    "%matplotlib inline\n",
    "\n",
    "plt.hist(correct_df['BMI'],bins=20,edgecolor='k')\n",
    "plt.xlabel('BMI')\n",
    "plt.ylabel('count')\n",
    "plt.title('BMI data from Pima Indians data')\n",
    "plt.show()"
   ]
  },
  {
   "cell_type": "code",
   "execution_count": null,
   "metadata": {},
   "outputs": [],
   "source": [
    "# データの前処理\n",
    "# pandasのcut functionを使用します\n",
    "\n",
    "######\n",
    "# ここを消してください\n",
    "######"
   ]
  },
  {
   "cell_type": "code",
   "execution_count": null,
   "metadata": {},
   "outputs": [],
   "source": [
    "# scikit-learnによるモデル構築\n",
    "import numpy as np\n",
    "from sklearn.linear_model import LogisticRegression\n",
    "\n",
    "# numpyのreshapeを使用して、説明変数を2次元配列に変換\n",
    "\n",
    "######\n",
    "# ここを消してください\n",
    "######\n",
    "\n",
    "# 正則化法の適用オプションとして、L1もしくはL2しか選択できません（defaultはL2）\n",
    "# 正則化を行いたくない場合には、正則化項にかかるハイパーパラメータをゼロに近づける必要があります\n",
    "# Cを大きな値とすることで、ハイパーパラメータが0に近づきます\n",
    "\n",
    "######\n",
    "# ここを消してください\n",
    "######\n",
    "\n",
    "# statsmodelsでのpenalty無しの場合とでは値が異なります\n",
    "print(logisticModel.coef_[0])\n",
    "\n",
    "# オッズ比を算出\n",
    "print('odds ratio = ' + str(np.exp(logisticModel.coef_[0])))"
   ]
  },
  {
   "cell_type": "code",
   "execution_count": null,
   "metadata": {},
   "outputs": [],
   "source": [
    "# BMIを連続値のまま説明変数として使用\n",
    "\n",
    "######\n",
    "# ここを消してください\n",
    "######\n",
    "\n",
    "print(logisticModel.coef_[0])\n",
    "print('odds ratio = ' + str(np.exp(logisticModel.coef_[0])))"
   ]
  },
  {
   "cell_type": "code",
   "execution_count": null,
   "metadata": {},
   "outputs": [],
   "source": [
    "# (参考) statsmodelsを使ったロジスティック回帰モデルの構築\n",
    "\n",
    "# BMIをカテゴリデータ化\n",
    "data_BMI_cat = pd.cut(correct_df['BMI'],[0,30,100],labels=[0,1])\n",
    "\n",
    "# Outcomeを結合\n",
    "data_BMI_cat = pd.concat([data_BMI_cat,correct_df['Outcome']],axis=1)\n",
    "data_BMI_cat.head()\n",
    "\n",
    "import statsmodels.formula.api as smf\n",
    "\n",
    "# 説明変数と目的変数の関係を指定し、モデルを構築する\n",
    "f = 'Outcome ~ BMI'\n",
    "logitfit = smf.logit(formula=str(f), data=data_BMI_cat).fit()\n",
    "\n",
    "print(logitfit.summary())\n",
    "\n",
    "# パラメータは対数オッズ比を表すため、expの肩に乗せることでオッズ比を算出\n",
    "print('odds ratio = ' + str(np.exp(logitfit.params[1])))"
   ]
  },
  {
   "cell_type": "code",
   "execution_count": null,
   "metadata": {},
   "outputs": [],
   "source": [
    "# （参考） BMIを連続変数のまま、説明変数として使用するモデル\n",
    "\n",
    "# BMIを説明変数として指定\n",
    "f = 'Outcome ~ BMI'\n",
    "logitfit = smf.logit(formula=str(f), data=correct_df).fit()\n",
    "\n",
    "print(logitfit.summary())"
   ]
  },
  {
   "cell_type": "markdown",
   "metadata": {},
   "source": [
    "#### 2. 混同行列、ROC曲線とAUC"
   ]
  },
  {
   "cell_type": "code",
   "execution_count": null,
   "metadata": {},
   "outputs": [],
   "source": [
    "# まずsklearnを使用してモデル構築\n",
    "# 復習ですので、以下実行してみてください\n",
    "\n",
    "from sklearn.linear_model import LogisticRegression\n",
    "from sklearn.model_selection import train_test_split\n",
    "\n",
    "# 説明変数の選択\n",
    "X = correct_df[['Age','BMI']]\n",
    "y = correct_df.loc[:, 'Outcome']\n",
    "\n",
    "# テストデータを使用して評価を行うため、データを分割\n",
    "X_train, X_test, y_train, y_test = train_test_split(X, y, test_size=1/4)\n",
    "\n",
    "logisticModel = LogisticRegression()\n",
    "logisticModel.fit(X_train, y_train)"
   ]
  },
  {
   "cell_type": "code",
   "execution_count": null,
   "metadata": {},
   "outputs": [],
   "source": [
    "# (参考) 結果の可視化\n",
    "\n",
    "# 散布図のための関数定義\n",
    "def plot_scatter(df_pos,df_neg,cols=['Age','BMI'],dsize=10):\n",
    "    plt.scatter(df_pos[cols[0]],df_pos[cols[1]],\n",
    "                c='orange',\n",
    "                s=dsize,\n",
    "                label='positive',\n",
    "               )\n",
    "    plt.scatter(df_neg[cols[0]],df_neg[cols[1]],\n",
    "                c='blue',\n",
    "                s=dsize,\n",
    "                label='negative',\n",
    "                alpha=0.3, # そのままだとドットが重なって見にくいため、透明度を調整\n",
    "               )\n",
    "\n",
    "    plt.xlabel(cols[0])\n",
    "    plt.ylabel(cols[1])\n",
    "\n",
    "    # legendを可視化\n",
    "    plt.legend()\n",
    "    \n",
    "# 変数定義\n",
    "data_age = correct_df['Age']\n",
    "data_BMI = correct_df['BMI']\n",
    "df_pos = correct_df[correct_df['Outcome']==1]\n",
    "df_neg = correct_df[correct_df['Outcome']==0]\n",
    "\n",
    "# プロットのための座標を作成します\n",
    "age = np.linspace(np.min(data_age),np.max(data_age),51)\n",
    "BMI = np.linspace(np.min(data_BMI),np.max(data_BMI),51)\n",
    "\n",
    "# age x BMI の２次元平面の各座標において、regressionで求めた関数から陽性率を計算します\n",
    "prediction = np.zeros([51,51])\n",
    "for i in range(51):\n",
    "    for j in range(51):\n",
    "        prediction[i,j] = logisticModel.predict_proba([[age[i],BMI[j]]])[0,1]\n",
    "\n",
    "# 陽性率の関数とデータの散布図を同一グラフ上に描画\n",
    "extent = [np.min(data_age), np.max(data_age), np.min(data_BMI), np.max(data_BMI)]\n",
    "fig = plt.figure(figsize=[9,6])\n",
    "ax = fig.add_subplot(1,1,1)\n",
    "plot_scatter(df_pos,df_neg,dsize=15)\n",
    "im = ax.imshow(prediction.T,\n",
    "               extent=extent,\n",
    "               origin='lower',\n",
    "               cmap='pink'\n",
    "              )\n",
    "ax.set_xlabel('age')\n",
    "ax.set_ylabel('BMI')\n",
    "fig.colorbar(im)\n",
    "plt.show()"
   ]
  },
  {
   "cell_type": "code",
   "execution_count": null,
   "metadata": {},
   "outputs": [],
   "source": [
    "# 混同行列、classification_reportの確認\n",
    "from sklearn.metrics import confusion_matrix, classification_report\n",
    "import seaborn as sns\n",
    "\n",
    "y_pred = logisticModel.predict(X_test)\n",
    "labels = [1,0]\n",
    "print(classification_report(y_test, y_pred, labels=labels))\n",
    "\n",
    "# 混同行列\n",
    "# 左上は真陽性(true positive)、右下は真陰性(true negative)、\n",
    "# 左下は偽陽性(false positive)、右上は偽陰性(false negative)\n",
    "\n",
    "######\n",
    "# ここを消してください\n",
    "######"
   ]
  },
  {
   "cell_type": "code",
   "execution_count": null,
   "metadata": {},
   "outputs": [],
   "source": [
    "# ROC curve, およびarea under the curve (AUC) の計算\n",
    "from sklearn.metrics import roc_curve, auc\n",
    "\n",
    "# テストデータを使用してROC curveを計算するために、まずはテストデータの\n",
    "# 各点における陽性率を、LogisticRegression.predict_proba関数を使用して計算します\n",
    "\n",
    "######\n",
    "# ここを消してください\n",
    "######\n",
    "\n",
    "# 次に、上で求めた真陽性率と、各点の真のOutcomeの値を使用して、\n",
    "# 様々なthresholdsにおける真陽性率と偽陽性率を計算します\n",
    "\n",
    "######\n",
    "# ここを消してください\n",
    "######\n",
    "\n",
    "# ROC curveのarea under the curveを計算\n",
    "\n",
    "######\n",
    "# ここを消してください\n",
    "######\n",
    "\n",
    "# 実際にROC curveを描いてみます\n",
    "\n",
    "######\n",
    "# ここを消してください\n",
    "######"
   ]
  }
 ],
 "metadata": {
  "kernelspec": {
   "display_name": "Python 3",
   "language": "python",
   "name": "python3"
  },
  "language_info": {
   "codemirror_mode": {
    "name": "ipython",
    "version": 3
   },
   "file_extension": ".py",
   "mimetype": "text/x-python",
   "name": "python",
   "nbconvert_exporter": "python",
   "pygments_lexer": "ipython3",
   "version": "3.6.8"
  },
  "toc": {
   "base_numbering": 1,
   "nav_menu": {},
   "number_sections": false,
   "sideBar": true,
   "skip_h1_title": false,
   "title_cell": "Table of Contents",
   "title_sidebar": "Contents",
   "toc_cell": false,
   "toc_position": {
    "height": "calc(100% - 180px)",
    "left": "10px",
    "top": "150px",
    "width": "288px"
   },
   "toc_section_display": true,
   "toc_window_display": true
  },
  "varInspector": {
   "cols": {
    "lenName": 16,
    "lenType": 16,
    "lenVar": 40
   },
   "kernels_config": {
    "python": {
     "delete_cmd_postfix": "",
     "delete_cmd_prefix": "del ",
     "library": "var_list.py",
     "varRefreshCmd": "print(var_dic_list())"
    },
    "r": {
     "delete_cmd_postfix": ") ",
     "delete_cmd_prefix": "rm(",
     "library": "var_list.r",
     "varRefreshCmd": "cat(var_dic_list()) "
    }
   },
   "types_to_exclude": [
    "module",
    "function",
    "builtin_function_or_method",
    "instance",
    "_Feature"
   ],
   "window_display": false
  }
 },
 "nbformat": 4,
 "nbformat_minor": 2
}
