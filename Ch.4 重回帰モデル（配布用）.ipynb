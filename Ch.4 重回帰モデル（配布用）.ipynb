{
 "cells": [
  {
   "cell_type": "markdown",
   "metadata": {},
   "source": [
    "### ----------------------------------------------------------------------------------------------------------\n",
    "## 社会変革型 医療データサイエンティスト育成講座\n",
    "# Chapter 4: 重回帰モデル　配布用ノート\n",
    "### ----------------------------------------------------------------------------------------------------------"
   ]
  },
  {
   "cell_type": "markdown",
   "metadata": {},
   "source": [
    "#### 1. ライブラリ使用方法"
   ]
  },
  {
   "cell_type": "code",
   "execution_count": null,
   "metadata": {},
   "outputs": [],
   "source": [
    "# データのロード\n"
   ]
  },
  {
   "cell_type": "code",
   "execution_count": null,
   "metadata": {},
   "outputs": [],
   "source": [
    "# データの定義\n",
    "# 説明変数として分子量 (MW)およびAlogP, 目的変数としてpIC50を使用します\n"
   ]
  },
  {
   "cell_type": "code",
   "execution_count": null,
   "metadata": {},
   "outputs": [],
   "source": [
    "# （参考）データの可視化\n",
    "import matplotlib.pyplot as plt\n",
    "from mpl_toolkits.mplot3d import Axes3D\n",
    "%matplotlib inline\n",
    "\n",
    "fig = plt.figure(figsize=[12,9]) \n",
    "ax = fig.add_subplot(111, projection='3d')\n",
    "ax.scatter(X[:,0],X[:,1],y)\n",
    "ax.set_xlabel('MW')\n",
    "ax.set_ylabel('AlogP')\n",
    "ax.set_zlabel('pIC50')\n",
    "plt.show()"
   ]
  },
  {
   "cell_type": "code",
   "execution_count": null,
   "metadata": {},
   "outputs": [],
   "source": [
    "# sklearn.linear_modelによる線形回帰モデル構築\n"
   ]
  },
  {
   "cell_type": "code",
   "execution_count": null,
   "metadata": {},
   "outputs": [],
   "source": [
    "# （参考）回帰の結果の可視化\n",
    "x1 = np.linspace(0,1400,100)\n",
    "x2 = np.linspace(-4,9,100)\n",
    "X1,X2 = np.meshgrid(x1,x2)\n",
    "yy = np.zeros([100,100])\n",
    "for i,xx1 in enumerate(x1):\n",
    "    for j,xx2 in enumerate(x2):\n",
    "        yy[i,j] = linModel.intercept_ + xx1*linModel.coef_[0] \n",
    "        + xx2*linModel.coef_[1]\n",
    "        \n",
    "fig = plt.figure(figsize=[8,6]) \n",
    "ax = fig.add_subplot(111, projection='3d')\n",
    "ax.plot_surface(X1, X2, yy, color='r', alpha=0.3)\n",
    "ax.scatter(X[:,0],X[:,1],y)\n",
    "ax.set_xlabel('MW')\n",
    "ax.set_ylabel('AlogP')\n",
    "ax.set_zlabel('pIC50')\n",
    "plt.show()"
   ]
  },
  {
   "cell_type": "code",
   "execution_count": null,
   "metadata": {},
   "outputs": [],
   "source": [
    "# (参考) statsmodelsによる線形回帰モデル構築\n",
    "import statsmodels.api as sm\n",
    "\n",
    "# \"add_constant\"を行う必要があります\n",
    "X = sm.add_constant(X)\n",
    "\n",
    "# OLSはordinary least squareのことです\n",
    "mod = sm.OLS(y, X)\n",
    "res = mod.fit()\n",
    "\n",
    "# summary機能があるのでとても便利！\n",
    "print(res.summary())"
   ]
  },
  {
   "cell_type": "markdown",
   "metadata": {},
   "source": [
    "#### 2. データ標準化"
   ]
  },
  {
   "cell_type": "code",
   "execution_count": null,
   "metadata": {},
   "outputs": [],
   "source": [
    "# 説明変数と目的変数の定義\n",
    "X = np.array(bace_data[['MW','AlogP']])\n",
    "y = np.array(bace_data[['pIC50']]) # 2次元データとする必要がある"
   ]
  },
  {
   "cell_type": "code",
   "execution_count": null,
   "metadata": {},
   "outputs": [],
   "source": [
    "# StandardScalerを使用したデータの標準化\n"
   ]
  },
  {
   "cell_type": "code",
   "execution_count": null,
   "metadata": {},
   "outputs": [],
   "source": [
    "# （参考）ヒストグラムを用いた標準化の確認\n",
    "import matplotlib.pyplot as plt\n",
    "%matplotlib inline\n",
    "fig, ax = plt.subplots(1,2)\n",
    "ax[0].hist(X[:,0])\n",
    "ax[0].set_xlabel('before st')\n",
    "ax[1].hist(X_st[:,0])\n",
    "ax[1].set_xlabel('after st')\n",
    "plt.show()"
   ]
  },
  {
   "cell_type": "code",
   "execution_count": null,
   "metadata": {},
   "outputs": [],
   "source": [
    "# 標準化なしのデータで線形モデル構築\n"
   ]
  },
  {
   "cell_type": "code",
   "execution_count": null,
   "metadata": {},
   "outputs": [],
   "source": [
    "# 標準化したデータでモデル構築\n"
   ]
  }
 ],
 "metadata": {
  "kernelspec": {
   "display_name": "Python 3",
   "language": "python",
   "name": "python3"
  },
  "language_info": {
   "codemirror_mode": {
    "name": "ipython",
    "version": 3
   },
   "file_extension": ".py",
   "mimetype": "text/x-python",
   "name": "python",
   "nbconvert_exporter": "python",
   "pygments_lexer": "ipython3",
   "version": "3.6.8"
  },
  "toc": {
   "base_numbering": 1,
   "nav_menu": {},
   "number_sections": false,
   "sideBar": true,
   "skip_h1_title": false,
   "title_cell": "Table of Contents",
   "title_sidebar": "Contents",
   "toc_cell": false,
   "toc_position": {},
   "toc_section_display": true,
   "toc_window_display": true
  },
  "varInspector": {
   "cols": {
    "lenName": 16,
    "lenType": 16,
    "lenVar": 40
   },
   "kernels_config": {
    "python": {
     "delete_cmd_postfix": "",
     "delete_cmd_prefix": "del ",
     "library": "var_list.py",
     "varRefreshCmd": "print(var_dic_list())"
    },
    "r": {
     "delete_cmd_postfix": ") ",
     "delete_cmd_prefix": "rm(",
     "library": "var_list.r",
     "varRefreshCmd": "cat(var_dic_list()) "
    }
   },
   "types_to_exclude": [
    "module",
    "function",
    "builtin_function_or_method",
    "instance",
    "_Feature"
   ],
   "window_display": false
  }
 },
 "nbformat": 4,
 "nbformat_minor": 2
}
